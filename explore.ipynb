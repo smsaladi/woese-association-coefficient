{
 "nbformat": 4,
 "nbformat_minor": 2,
 "metadata": {
  "language_info": {
   "name": "python",
   "codemirror_mode": {
    "name": "ipython",
    "version": 3
   },
   "version": "3.7.6-final"
  },
  "orig_nbformat": 2,
  "file_extension": ".py",
  "mimetype": "text/x-python",
  "name": "python",
  "npconvert_exporter": "python",
  "pygments_lexer": "ipython3",
  "version": 3,
  "kernelspec": {
   "name": "python37364bitbasecondae62692dce1c84b6298d87666b36b794f",
   "display_name": "Python 3.7.3 64-bit ('base': conda)"
  }
 },
 "cells": [
  {
   "cell_type": "code",
   "execution_count": 1,
   "metadata": {},
   "outputs": [],
   "source": [
    "import numpy as np\n",
    "import pandas as pd\n",
    "\n",
    "import scipy.spatial.distance"
   ]
  },
  {
   "cell_type": "markdown",
   "execution_count": null,
   "metadata": {},
   "outputs": [],
   "source": [
    "## Read reference\n",
    "\n",
    "From Table 3"
   ]
  },
  {
   "cell_type": "code",
   "execution_count": 2,
   "metadata": {},
   "outputs": [
    {
     "data": {
      "text/html": "<div>\n<style scoped>\n    .dataframe tbody tr th:only-of-type {\n        vertical-align: middle;\n    }\n\n    .dataframe tbody tr th {\n        vertical-align: top;\n    }\n\n    .dataframe thead th {\n        text-align: right;\n    }\n</style>\n<table border=\"1\" class=\"dataframe\">\n  <thead>\n    <tr style=\"text-align: right;\">\n      <th></th>\n      <th>1</th>\n      <th>2</th>\n      <th>3</th>\n      <th>4</th>\n      <th>5</th>\n      <th>6</th>\n      <th>7</th>\n      <th>8</th>\n      <th>9</th>\n      <th>10</th>\n    </tr>\n  </thead>\n  <tbody>\n    <tr>\n      <th>1</th>\n      <td>NaN</td>\n      <td>NaN</td>\n      <td>NaN</td>\n      <td>NaN</td>\n      <td>NaN</td>\n      <td>NaN</td>\n      <td>NaN</td>\n      <td>NaN</td>\n      <td>NaN</td>\n      <td>NaN</td>\n    </tr>\n    <tr>\n      <th>2</th>\n      <td>0.66</td>\n      <td>NaN</td>\n      <td>NaN</td>\n      <td>NaN</td>\n      <td>NaN</td>\n      <td>NaN</td>\n      <td>NaN</td>\n      <td>NaN</td>\n      <td>NaN</td>\n      <td>NaN</td>\n    </tr>\n    <tr>\n      <th>3</th>\n      <td>0.60</td>\n      <td>0.60</td>\n      <td>NaN</td>\n      <td>NaN</td>\n      <td>NaN</td>\n      <td>NaN</td>\n      <td>NaN</td>\n      <td>NaN</td>\n      <td>NaN</td>\n      <td>NaN</td>\n    </tr>\n    <tr>\n      <th>4</th>\n      <td>0.50</td>\n      <td>0.48</td>\n      <td>0.49</td>\n      <td>NaN</td>\n      <td>NaN</td>\n      <td>NaN</td>\n      <td>NaN</td>\n      <td>NaN</td>\n      <td>NaN</td>\n      <td>NaN</td>\n    </tr>\n    <tr>\n      <th>5</th>\n      <td>0.53</td>\n      <td>0.49</td>\n      <td>0.51</td>\n      <td>0.60</td>\n      <td>NaN</td>\n      <td>NaN</td>\n      <td>NaN</td>\n      <td>NaN</td>\n      <td>NaN</td>\n      <td>NaN</td>\n    </tr>\n    <tr>\n      <th>6</th>\n      <td>0.52</td>\n      <td>0.49</td>\n      <td>0.51</td>\n      <td>0.54</td>\n      <td>0.60</td>\n      <td>NaN</td>\n      <td>NaN</td>\n      <td>NaN</td>\n      <td>NaN</td>\n      <td>NaN</td>\n    </tr>\n    <tr>\n      <th>7</th>\n      <td>0.25</td>\n      <td>0.27</td>\n      <td>0.25</td>\n      <td>0.26</td>\n      <td>0.23</td>\n      <td>0.25</td>\n      <td>NaN</td>\n      <td>NaN</td>\n      <td>NaN</td>\n      <td>NaN</td>\n    </tr>\n    <tr>\n      <th>8</th>\n      <td>0.26</td>\n      <td>0.28</td>\n      <td>0.26</td>\n      <td>0.28</td>\n      <td>0.27</td>\n      <td>0.29</td>\n      <td>0.59</td>\n      <td>NaN</td>\n      <td>NaN</td>\n      <td>NaN</td>\n    </tr>\n    <tr>\n      <th>9</th>\n      <td>0.20</td>\n      <td>0.24</td>\n      <td>0.21</td>\n      <td>0.23</td>\n      <td>0.23</td>\n      <td>0.22</td>\n      <td>0.51</td>\n      <td>0.52</td>\n      <td>NaN</td>\n      <td>NaN</td>\n    </tr>\n    <tr>\n      <th>10</th>\n      <td>0.29</td>\n      <td>0.26</td>\n      <td>0.24</td>\n      <td>0.24</td>\n      <td>0.26</td>\n      <td>0.25</td>\n      <td>0.33</td>\n      <td>0.41</td>\n      <td>0.34</td>\n      <td>NaN</td>\n    </tr>\n  </tbody>\n</table>\n</div>",
      "text/plain": "       1     2     3     4     5     6     7     8     9  10\n1    NaN   NaN   NaN   NaN   NaN   NaN   NaN   NaN   NaN NaN\n2   0.66   NaN   NaN   NaN   NaN   NaN   NaN   NaN   NaN NaN\n3   0.60  0.60   NaN   NaN   NaN   NaN   NaN   NaN   NaN NaN\n4   0.50  0.48  0.49   NaN   NaN   NaN   NaN   NaN   NaN NaN\n5   0.53  0.49  0.51  0.60   NaN   NaN   NaN   NaN   NaN NaN\n6   0.52  0.49  0.51  0.54  0.60   NaN   NaN   NaN   NaN NaN\n7   0.25  0.27  0.25  0.26  0.23  0.25   NaN   NaN   NaN NaN\n8   0.26  0.28  0.26  0.28  0.27  0.29  0.59   NaN   NaN NaN\n9   0.20  0.24  0.21  0.23  0.23  0.22  0.51  0.52   NaN NaN\n10  0.29  0.26  0.24  0.24  0.26  0.25  0.33  0.41  0.34 NaN"
     },
     "execution_count": 2,
     "metadata": {},
     "output_type": "execute_result"
    }
   ],
   "source": [
    "df_t3 = pd.read_excel(\"./digitized_tables.xlsx\", sheet_name='Table 3')\n",
    "df_t3.index = df_t3.index + 1\n",
    "\n",
    "names = df_t3['Organism']\n",
    "names = names.iloc[:13].str.split(n=1).str[1]\n",
    "\n",
    "df_t3.drop(columns=['Organism'], index=14, inplace=True)\n",
    "df_t3 = df_t3.apply(lambda s: s.replace('NaN', '').replace('-', np.nan)).astype(float)\n",
    "\n",
    "df_t3.iloc[:10, :10]"
   ]
  },
  {
   "cell_type": "code",
   "execution_count": 3,
   "metadata": {},
   "outputs": [
    {
     "data": {
      "text/plain": "1               M. arbophilicum\n2             M. ruminantium PS\n3            M. ruminantium M-1\n4                 M. formicicum\n5                 M. sp. M.o.H.\n6        M. thermoautotrophicum\n7          Cariaco isolate JR-1\n8        Black Sea isolate JR-1\n9     Methanospirillum hungatii\n10       Methanosarcina barkeri\n11           Enteric-vibrio sp.\n12                 Bacillus sp.\n13               Blue-green sp.\nName: Organism, dtype: object"
     },
     "execution_count": 3,
     "metadata": {},
     "output_type": "execute_result"
    }
   ],
   "source": [
    "names"
   ]
  },
  {
   "cell_type": "markdown",
   "execution_count": 225,
   "metadata": {},
   "outputs": [],
   "source": [
    "## Read data\n",
    "\n",
    "Digitized data from Table 1"
   ]
  },
  {
   "cell_type": "code",
   "execution_count": 4,
   "metadata": {},
   "outputs": [],
   "source": [
    "df = pd.concat([pd.read_excel(\"./digitized_tables.xlsx\", sheet_name=n, dtype=str)\n",
    "    for n in ['Table 1 (p4538)', 'Table 1 (p4539)']])\n",
    "df.columns = 3 * ['seq', 'org']\n",
    "\n",
    "df = pd.concat([df.iloc[:, 0:2], df.iloc[:, 2:4], df.iloc[:, 4:6]], ignore_index=False, sort=False)\n",
    "df.dropna(inplace=True)\n",
    "\n",
    "def parse_org(s):\n",
    "\n",
    "    tokens = s.replace(';', ',').split(',')\n",
    "    org = []\n",
    "    for t in tokens:\n",
    "        if '-' in t:\n",
    "            a, b = t.split('-')\n",
    "            a = int(a)\n",
    "            b = int(b)\n",
    "            org.extend(range(a, b + 1))\n",
    "        else:\n",
    "            org.append(int(t))\n",
    "    return org\n",
    "\n",
    "df = df.set_index('seq')\n",
    "df = df['org'].apply(parse_org).explode()\n",
    "\n",
    "df = df.reset_index()"
   ]
  },
  {
   "cell_type": "code",
   "execution_count": 5,
   "metadata": {},
   "outputs": [
    {
     "data": {
      "text/html": "<div>\n<style scoped>\n    .dataframe tbody tr th:only-of-type {\n        vertical-align: middle;\n    }\n\n    .dataframe tbody tr th {\n        vertical-align: top;\n    }\n\n    .dataframe thead th {\n        text-align: right;\n    }\n</style>\n<table border=\"1\" class=\"dataframe\">\n  <thead>\n    <tr style=\"text-align: right;\">\n      <th>org</th>\n      <th>1</th>\n      <th>2</th>\n      <th>3</th>\n      <th>4</th>\n      <th>5</th>\n      <th>6</th>\n      <th>7</th>\n      <th>8</th>\n      <th>9</th>\n      <th>10</th>\n    </tr>\n    <tr>\n      <th>seq</th>\n      <th></th>\n      <th></th>\n      <th></th>\n      <th></th>\n      <th></th>\n      <th></th>\n      <th></th>\n      <th></th>\n      <th></th>\n      <th></th>\n    </tr>\n  </thead>\n  <tbody>\n    <tr>\n      <th>(AAACA,UAAUCUCA)-CCCAUCCUUAG</th>\n      <td>0</td>\n      <td>0</td>\n      <td>0</td>\n      <td>0</td>\n      <td>0</td>\n      <td>0</td>\n      <td>0</td>\n      <td>0</td>\n      <td>0</td>\n      <td>1</td>\n    </tr>\n    <tr>\n      <th>(CAA,CCA)CAUUCUG</th>\n      <td>0</td>\n      <td>0</td>\n      <td>0</td>\n      <td>0</td>\n      <td>0</td>\n      <td>1</td>\n      <td>0</td>\n      <td>0</td>\n      <td>0</td>\n      <td>0</td>\n    </tr>\n    <tr>\n      <th>(CCA,CAA)CAG</th>\n      <td>0</td>\n      <td>0</td>\n      <td>0</td>\n      <td>0</td>\n      <td>0</td>\n      <td>0</td>\n      <td>0</td>\n      <td>1</td>\n      <td>0</td>\n      <td>0</td>\n    </tr>\n    <tr>\n      <th>(CU,CCUU)CG</th>\n      <td>0</td>\n      <td>0</td>\n      <td>0</td>\n      <td>1</td>\n      <td>0</td>\n      <td>0</td>\n      <td>0</td>\n      <td>0</td>\n      <td>0</td>\n      <td>0</td>\n    </tr>\n    <tr>\n      <th>(CUA,CUUUUA)UUG</th>\n      <td>0</td>\n      <td>0</td>\n      <td>1</td>\n      <td>0</td>\n      <td>0</td>\n      <td>0</td>\n      <td>0</td>\n      <td>0</td>\n      <td>0</td>\n      <td>0</td>\n    </tr>\n  </tbody>\n</table>\n</div>",
      "text/plain": "org                           1   2   3   4   5   6   7   8   9   10\nseq                                                                 \n(AAACA,UAAUCUCA)-CCCAUCCUUAG   0   0   0   0   0   0   0   0   0   1\n(CAA,CCA)CAUUCUG               0   0   0   0   0   1   0   0   0   0\n(CCA,CAA)CAG                   0   0   0   0   0   0   0   1   0   0\n(CU,CCUU)CG                    0   0   0   1   0   0   0   0   0   0\n(CUA,CUUUUA)UUG                0   0   1   0   0   0   0   0   0   0"
     },
     "execution_count": 5,
     "metadata": {},
     "output_type": "execute_result"
    }
   ],
   "source": [
    "df_feat = df.groupby(['seq', 'org']).apply(lambda x: x.shape[0]).unstack('org')\n",
    "df_feat = df_feat.fillna(0).astype(int)\n",
    "df_feat.head()"
   ]
  },
  {
   "cell_type": "code",
   "execution_count": 6,
   "metadata": {},
   "outputs": [],
   "source": [
    "import itertools\n",
    "\n",
    "def dist_mtx(df, func, **kwargs):\n",
    "    n_col = len(df.columns)\n",
    "    df_dist = pd.DataFrame(np.zeros([n_col, n_col], dtype=float),\n",
    "        columns=df.columns, index=df.columns)\n",
    "\n",
    "    # off diagonal\n",
    "    for c1, c2 in itertools.combinations(df.columns, 2):\n",
    "         df_dist.loc[c1, c2] = df_dist.loc[c2, c1] = \\\n",
    "            func(df[c1], df[c2], **kwargs)\n",
    "\n",
    "    # on diagonal\n",
    "    # for c in df.columns:\n",
    "    #     df_dist.loc[c, c] = func(df[c], df[c], **kwargs)\n",
    "\n",
    "    return df_dist\n",
    "\n",
    "def clean_idx(x):\n",
    "    return  x.index.str.replace('[^ACTGU]', '')\n",
    "\n",
    "def woese_assoc(v1, v2):\n",
    "    \"\"\"Each oligo binary -- counted or not\"\"\"\n",
    "    seqs_len = clean_idx(v1).str.len().values\n",
    "\n",
    "    Na = seqs_len * (v1 > 0)\n",
    "    Na = Na.sum()\n",
    "    Nb = seqs_len * (v2 > 0)\n",
    "    Nb = Nb.sum()\n",
    "\n",
    "    Nab = seqs_len[(v1 > 0) & (v2 > 0)].sum()\n",
    "    return 2 * Nab / (Na + Nb)\n",
    "\n",
    "def woese_assoc_2(v1, v2):\n",
    "    \"\"\"Each oligo proportional to count\"\"\"\n",
    "    seqs_len = clean_idx(v1).str.len().values\n",
    "\n",
    "    Na = seqs_len * v1\n",
    "    Na = Na.sum()\n",
    "    Nb = seqs_len * v2\n",
    "    Nb = Nb.sum()\n",
    "\n",
    "    v_min = pd.concat([v1, v2], axis=1)\n",
    "    v_min = v_min.min(axis=1)\n",
    "    Nab = seqs_len * v_min\n",
    "    Nab = Nab.sum()\n",
    "\n",
    "    return 2 * Nab / (Na + Nb)\n",
    "\n",
    "def dice_coefficient(a, b):\n",
    "    \"\"\"dice coefficient 2nt/(na + nb).\n",
    "    https://en.wikibooks.org/wiki/Algorithm_Implementation/Strings/Dice%27s_coefficient#Python\n",
    "    \"\"\"\n",
    "    a_bigrams = set(a[a > 0].index.tolist())\n",
    "    b_bigrams = set(b[b > 0].index.tolist())\n",
    "    overlap = len(a_bigrams & b_bigrams)\n",
    "    return overlap * 2.0/(len(a_bigrams) + len(b_bigrams))\n",
    "\n",
    "def dice_sim(v1, v2):\n",
    "    return 1 - scipy.spatial.distance.dice(v1 > 0, v2 > 0)\n",
    "\n",
    "def dice_sim_wt(v1, v2):\n",
    "    wt = clean_idx(v1).str.len().values\n",
    "    return 1 - scipy.spatial.distance.dice(v1 > 0, v2 > 0, wt)"
   ]
  },
  {
   "cell_type": "code",
   "execution_count": 7,
   "metadata": {},
   "outputs": [
    {
     "data": {
      "text/html": "<div>\n<style scoped>\n    .dataframe tbody tr th:only-of-type {\n        vertical-align: middle;\n    }\n\n    .dataframe tbody tr th {\n        vertical-align: top;\n    }\n\n    .dataframe thead th {\n        text-align: right;\n    }\n</style>\n<table border=\"1\" class=\"dataframe\">\n  <thead>\n    <tr style=\"text-align: right;\">\n      <th></th>\n      <th>1</th>\n      <th>2</th>\n      <th>3</th>\n      <th>4</th>\n      <th>5</th>\n      <th>6</th>\n      <th>7</th>\n      <th>8</th>\n      <th>9</th>\n      <th>10</th>\n    </tr>\n  </thead>\n  <tbody>\n    <tr>\n      <th>1</th>\n      <td>nan</td>\n      <td>nan</td>\n      <td>nan</td>\n      <td>nan</td>\n      <td>nan</td>\n      <td>nan</td>\n      <td>nan</td>\n      <td>nan</td>\n      <td>nan</td>\n      <td>nan</td>\n    </tr>\n    <tr>\n      <th>2</th>\n      <td>-0.0100</td>\n      <td>nan</td>\n      <td>nan</td>\n      <td>nan</td>\n      <td>nan</td>\n      <td>nan</td>\n      <td>nan</td>\n      <td>nan</td>\n      <td>nan</td>\n      <td>nan</td>\n    </tr>\n    <tr>\n      <th>3</th>\n      <td>.0100</td>\n      <td>.0100</td>\n      <td>nan</td>\n      <td>nan</td>\n      <td>nan</td>\n      <td>nan</td>\n      <td>nan</td>\n      <td>nan</td>\n      <td>nan</td>\n      <td>nan</td>\n    </tr>\n    <tr>\n      <th>4</th>\n      <td>.0000</td>\n      <td>-0.0200</td>\n      <td>-0.0300</td>\n      <td>nan</td>\n      <td>nan</td>\n      <td>nan</td>\n      <td>nan</td>\n      <td>nan</td>\n      <td>nan</td>\n      <td>nan</td>\n    </tr>\n    <tr>\n      <th>5</th>\n      <td>-0.0100</td>\n      <td>-0.0100</td>\n      <td>-0.0300</td>\n      <td>-0.0100</td>\n      <td>nan</td>\n      <td>nan</td>\n      <td>nan</td>\n      <td>nan</td>\n      <td>nan</td>\n      <td>nan</td>\n    </tr>\n    <tr>\n      <th>6</th>\n      <td>-0.0100</td>\n      <td>-0.0100</td>\n      <td>-0.0300</td>\n      <td>.0000</td>\n      <td>-0.0100</td>\n      <td>nan</td>\n      <td>nan</td>\n      <td>nan</td>\n      <td>nan</td>\n      <td>nan</td>\n    </tr>\n    <tr>\n      <th>7</th>\n      <td>-0.0100</td>\n      <td>.0000</td>\n      <td>.0000</td>\n      <td>.0100</td>\n      <td>.0000</td>\n      <td>.0100</td>\n      <td>nan</td>\n      <td>nan</td>\n      <td>nan</td>\n      <td>nan</td>\n    </tr>\n    <tr>\n      <th>8</th>\n      <td>.0000</td>\n      <td>.0000</td>\n      <td>.0000</td>\n      <td>.0000</td>\n      <td>.0000</td>\n      <td>.0100</td>\n      <td>-0.0100</td>\n      <td>nan</td>\n      <td>nan</td>\n      <td>nan</td>\n    </tr>\n    <tr>\n      <th>9</th>\n      <td>.0100</td>\n      <td>.0100</td>\n      <td>.0100</td>\n      <td>.0000</td>\n      <td>.0100</td>\n      <td>.0300</td>\n      <td>-0.0200</td>\n      <td>-0.0300</td>\n      <td>nan</td>\n      <td>nan</td>\n    </tr>\n    <tr>\n      <th>10</th>\n      <td>-0.0200</td>\n      <td>.0300</td>\n      <td>.0400</td>\n      <td>.0200</td>\n      <td>.0200</td>\n      <td>.0700</td>\n      <td>-0.0200</td>\n      <td>-0.0100</td>\n      <td>-0.0200</td>\n      <td>nan</td>\n    </tr>\n  </tbody>\n</table>\n</div>",
      "text/plain": "         1       2       3       4       5     6       7       8       9  10\n1      nan     nan     nan     nan     nan   nan     nan     nan     nan nan\n2  -0.0100     nan     nan     nan     nan   nan     nan     nan     nan nan\n3    .0100   .0100     nan     nan     nan   nan     nan     nan     nan nan\n4    .0000 -0.0200 -0.0300     nan     nan   nan     nan     nan     nan nan\n5  -0.0100 -0.0100 -0.0300 -0.0100     nan   nan     nan     nan     nan nan\n6  -0.0100 -0.0100 -0.0300   .0000 -0.0100   nan     nan     nan     nan nan\n7  -0.0100   .0000   .0000   .0100   .0000 .0100     nan     nan     nan nan\n8    .0000   .0000   .0000   .0000   .0000 .0100 -0.0100     nan     nan nan\n9    .0100   .0100   .0100   .0000   .0100 .0300 -0.0200 -0.0300     nan nan\n10 -0.0200   .0300   .0400   .0200   .0200 .0700 -0.0200 -0.0100 -0.0200 nan"
     },
     "execution_count": 7,
     "metadata": {},
     "output_type": "execute_result"
    }
   ],
   "source": [
    "oligo_len = clean_idx(df_feat).str.len()\n",
    "pd.options.display.float_format = lambda x: '{:.4f}'.format(x).lstrip('0')\n",
    "\n",
    "df_dice_wt = dist_mtx(df_feat[oligo_len >= 6], dice_sim_wt)\n",
    "df_dice_wt.round(2).values - df_t3.iloc[:10, :10]"
   ]
  },
  {
   "cell_type": "markdown",
   "execution_count": 13,
   "metadata": {},
   "outputs": [],
   "source": [
    "## Calculating S_ab by presence/absence of a given oligo"
   ]
  },
  {
   "cell_type": "code",
   "execution_count": 8,
   "metadata": {},
   "outputs": [
    {
     "data": {
      "text/html": "<div>\n<style scoped>\n    .dataframe tbody tr th:only-of-type {\n        vertical-align: middle;\n    }\n\n    .dataframe tbody tr th {\n        vertical-align: top;\n    }\n\n    .dataframe thead th {\n        text-align: right;\n    }\n</style>\n<table border=\"1\" class=\"dataframe\">\n  <thead>\n    <tr style=\"text-align: right;\">\n      <th></th>\n      <th>1</th>\n      <th>2</th>\n      <th>3</th>\n      <th>4</th>\n      <th>5</th>\n      <th>6</th>\n      <th>7</th>\n      <th>8</th>\n      <th>9</th>\n      <th>10</th>\n    </tr>\n  </thead>\n  <tbody>\n    <tr>\n      <th>1</th>\n      <td>nan</td>\n      <td>nan</td>\n      <td>nan</td>\n      <td>nan</td>\n      <td>nan</td>\n      <td>nan</td>\n      <td>nan</td>\n      <td>nan</td>\n      <td>nan</td>\n      <td>nan</td>\n    </tr>\n    <tr>\n      <th>2</th>\n      <td>-0.0107</td>\n      <td>nan</td>\n      <td>nan</td>\n      <td>nan</td>\n      <td>nan</td>\n      <td>nan</td>\n      <td>nan</td>\n      <td>nan</td>\n      <td>nan</td>\n      <td>nan</td>\n    </tr>\n    <tr>\n      <th>3</th>\n      <td>.0129</td>\n      <td>.0114</td>\n      <td>nan</td>\n      <td>nan</td>\n      <td>nan</td>\n      <td>nan</td>\n      <td>nan</td>\n      <td>nan</td>\n      <td>nan</td>\n      <td>nan</td>\n    </tr>\n    <tr>\n      <th>4</th>\n      <td>-0.0026</td>\n      <td>-0.0194</td>\n      <td>-0.0290</td>\n      <td>nan</td>\n      <td>nan</td>\n      <td>nan</td>\n      <td>nan</td>\n      <td>nan</td>\n      <td>nan</td>\n      <td>nan</td>\n    </tr>\n    <tr>\n      <th>5</th>\n      <td>-0.0080</td>\n      <td>-0.0115</td>\n      <td>-0.0309</td>\n      <td>-0.0077</td>\n      <td>nan</td>\n      <td>nan</td>\n      <td>nan</td>\n      <td>nan</td>\n      <td>nan</td>\n      <td>nan</td>\n    </tr>\n    <tr>\n      <th>6</th>\n      <td>-0.0054</td>\n      <td>-0.0066</td>\n      <td>-0.0330</td>\n      <td>-0.0040</td>\n      <td>-0.0131</td>\n      <td>nan</td>\n      <td>nan</td>\n      <td>nan</td>\n      <td>nan</td>\n      <td>nan</td>\n    </tr>\n    <tr>\n      <th>7</th>\n      <td>-0.0057</td>\n      <td>-0.0008</td>\n      <td>-0.0037</td>\n      <td>.0057</td>\n      <td>-0.0030</td>\n      <td>.0051</td>\n      <td>nan</td>\n      <td>nan</td>\n      <td>nan</td>\n      <td>nan</td>\n    </tr>\n    <tr>\n      <th>8</th>\n      <td>.0007</td>\n      <td>.0027</td>\n      <td>.0033</td>\n      <td>-0.0004</td>\n      <td>-0.0045</td>\n      <td>.0093</td>\n      <td>-0.0128</td>\n      <td>nan</td>\n      <td>nan</td>\n      <td>nan</td>\n    </tr>\n    <tr>\n      <th>9</th>\n      <td>.0138</td>\n      <td>.0091</td>\n      <td>.0067</td>\n      <td>.0006</td>\n      <td>.0117</td>\n      <td>.0250</td>\n      <td>-0.0184</td>\n      <td>-0.0281</td>\n      <td>nan</td>\n      <td>nan</td>\n    </tr>\n    <tr>\n      <th>10</th>\n      <td>-0.0186</td>\n      <td>.0326</td>\n      <td>.0375</td>\n      <td>.0190</td>\n      <td>.0215</td>\n      <td>.0708</td>\n      <td>-0.0223</td>\n      <td>-0.0066</td>\n      <td>-0.0238</td>\n      <td>nan</td>\n    </tr>\n  </tbody>\n</table>\n</div>",
      "text/plain": "         1       2       3       4       5     6       7       8       9  10\n1      nan     nan     nan     nan     nan   nan     nan     nan     nan nan\n2  -0.0107     nan     nan     nan     nan   nan     nan     nan     nan nan\n3    .0129   .0114     nan     nan     nan   nan     nan     nan     nan nan\n4  -0.0026 -0.0194 -0.0290     nan     nan   nan     nan     nan     nan nan\n5  -0.0080 -0.0115 -0.0309 -0.0077     nan   nan     nan     nan     nan nan\n6  -0.0054 -0.0066 -0.0330 -0.0040 -0.0131   nan     nan     nan     nan nan\n7  -0.0057 -0.0008 -0.0037   .0057 -0.0030 .0051     nan     nan     nan nan\n8    .0007   .0027   .0033 -0.0004 -0.0045 .0093 -0.0128     nan     nan nan\n9    .0138   .0091   .0067   .0006   .0117 .0250 -0.0184 -0.0281     nan nan\n10 -0.0186   .0326   .0375   .0190   .0215 .0708 -0.0223 -0.0066 -0.0238 nan"
     },
     "execution_count": 8,
     "metadata": {},
     "output_type": "execute_result"
    }
   ],
   "source": [
    "df_woese = dist_mtx(df_feat[oligo_len >= 6], woese_assoc)\n",
    "df_woese.values - df_t3.iloc[:10, :10]"
   ]
  },
  {
   "cell_type": "markdown",
   "execution_count": null,
   "metadata": {},
   "outputs": [],
   "source": [
    "## Calculating S_ab by the number of overlapping oligos\n",
    "\n",
    "For example, if a given oligo occurs thrice in 1 and twice in 2, count it twice."
   ]
  },
  {
   "cell_type": "code",
   "execution_count": 9,
   "metadata": {},
   "outputs": [
    {
     "data": {
      "text/html": "<div>\n<style scoped>\n    .dataframe tbody tr th:only-of-type {\n        vertical-align: middle;\n    }\n\n    .dataframe tbody tr th {\n        vertical-align: top;\n    }\n\n    .dataframe thead th {\n        text-align: right;\n    }\n</style>\n<table border=\"1\" class=\"dataframe\">\n  <thead>\n    <tr style=\"text-align: right;\">\n      <th></th>\n      <th>1</th>\n      <th>2</th>\n      <th>3</th>\n      <th>4</th>\n      <th>5</th>\n      <th>6</th>\n      <th>7</th>\n      <th>8</th>\n      <th>9</th>\n      <th>10</th>\n    </tr>\n  </thead>\n  <tbody>\n    <tr>\n      <th>1</th>\n      <td>nan</td>\n      <td>nan</td>\n      <td>nan</td>\n      <td>nan</td>\n      <td>nan</td>\n      <td>nan</td>\n      <td>nan</td>\n      <td>nan</td>\n      <td>nan</td>\n      <td>nan</td>\n    </tr>\n    <tr>\n      <th>2</th>\n      <td>-0.0171</td>\n      <td>nan</td>\n      <td>nan</td>\n      <td>nan</td>\n      <td>nan</td>\n      <td>nan</td>\n      <td>nan</td>\n      <td>nan</td>\n      <td>nan</td>\n      <td>nan</td>\n    </tr>\n    <tr>\n      <th>3</th>\n      <td>.0067</td>\n      <td>.0114</td>\n      <td>nan</td>\n      <td>nan</td>\n      <td>nan</td>\n      <td>nan</td>\n      <td>nan</td>\n      <td>nan</td>\n      <td>nan</td>\n      <td>nan</td>\n    </tr>\n    <tr>\n      <th>4</th>\n      <td>-0.0077</td>\n      <td>-0.0194</td>\n      <td>-0.0290</td>\n      <td>nan</td>\n      <td>nan</td>\n      <td>nan</td>\n      <td>nan</td>\n      <td>nan</td>\n      <td>nan</td>\n      <td>nan</td>\n    </tr>\n    <tr>\n      <th>5</th>\n      <td>-0.0134</td>\n      <td>-0.0115</td>\n      <td>-0.0309</td>\n      <td>-0.0077</td>\n      <td>nan</td>\n      <td>nan</td>\n      <td>nan</td>\n      <td>nan</td>\n      <td>nan</td>\n      <td>nan</td>\n    </tr>\n    <tr>\n      <th>6</th>\n      <td>-0.0106</td>\n      <td>-0.0066</td>\n      <td>-0.0330</td>\n      <td>-0.0040</td>\n      <td>-0.0131</td>\n      <td>nan</td>\n      <td>nan</td>\n      <td>nan</td>\n      <td>nan</td>\n      <td>nan</td>\n    </tr>\n    <tr>\n      <th>7</th>\n      <td>-0.0082</td>\n      <td>-0.0008</td>\n      <td>-0.0037</td>\n      <td>.0057</td>\n      <td>-0.0030</td>\n      <td>.0051</td>\n      <td>nan</td>\n      <td>nan</td>\n      <td>nan</td>\n      <td>nan</td>\n    </tr>\n    <tr>\n      <th>8</th>\n      <td>-0.0032</td>\n      <td>.0012</td>\n      <td>.0019</td>\n      <td>-0.0019</td>\n      <td>-0.0060</td>\n      <td>.0077</td>\n      <td>-0.0158</td>\n      <td>nan</td>\n      <td>nan</td>\n      <td>nan</td>\n    </tr>\n    <tr>\n      <th>9</th>\n      <td>.0105</td>\n      <td>.0078</td>\n      <td>.0055</td>\n      <td>-0.0006</td>\n      <td>.0104</td>\n      <td>.0237</td>\n      <td>-0.0210</td>\n      <td>-0.0227</td>\n      <td>nan</td>\n      <td>nan</td>\n    </tr>\n    <tr>\n      <th>10</th>\n      <td>-0.0226</td>\n      <td>.0312</td>\n      <td>.0361</td>\n      <td>.0177</td>\n      <td>.0201</td>\n      <td>.0691</td>\n      <td>-0.0239</td>\n      <td>-0.0107</td>\n      <td>-0.0271</td>\n      <td>nan</td>\n    </tr>\n  </tbody>\n</table>\n</div>",
      "text/plain": "         1       2       3       4       5     6       7       8       9  10\n1      nan     nan     nan     nan     nan   nan     nan     nan     nan nan\n2  -0.0171     nan     nan     nan     nan   nan     nan     nan     nan nan\n3    .0067   .0114     nan     nan     nan   nan     nan     nan     nan nan\n4  -0.0077 -0.0194 -0.0290     nan     nan   nan     nan     nan     nan nan\n5  -0.0134 -0.0115 -0.0309 -0.0077     nan   nan     nan     nan     nan nan\n6  -0.0106 -0.0066 -0.0330 -0.0040 -0.0131   nan     nan     nan     nan nan\n7  -0.0082 -0.0008 -0.0037   .0057 -0.0030 .0051     nan     nan     nan nan\n8  -0.0032   .0012   .0019 -0.0019 -0.0060 .0077 -0.0158     nan     nan nan\n9    .0105   .0078   .0055 -0.0006   .0104 .0237 -0.0210 -0.0227     nan nan\n10 -0.0226   .0312   .0361   .0177   .0201 .0691 -0.0239 -0.0107 -0.0271 nan"
     },
     "execution_count": 9,
     "metadata": {},
     "output_type": "execute_result"
    }
   ],
   "source": [
    "df_woese = dist_mtx(df_feat[oligo_len >= 6], woese_assoc_2)\n",
    "df_woese.values - df_t3.iloc[:10, :10]"
   ]
  },
  {
   "cell_type": "markdown",
   "execution_count": null,
   "metadata": {},
   "outputs": [],
   "source": [
    "#### Sandbox below..."
   ]
  },
  {
   "cell_type": "code",
   "execution_count": 10,
   "metadata": {},
   "outputs": [
    {
     "data": {
      "text/html": "<div>\n<style scoped>\n    .dataframe tbody tr th:only-of-type {\n        vertical-align: middle;\n    }\n\n    .dataframe tbody tr th {\n        vertical-align: top;\n    }\n\n    .dataframe thead th {\n        text-align: right;\n    }\n</style>\n<table border=\"1\" class=\"dataframe\">\n  <thead>\n    <tr style=\"text-align: right;\">\n      <th></th>\n      <th>1</th>\n      <th>2</th>\n      <th>3</th>\n      <th>4</th>\n      <th>5</th>\n      <th>6</th>\n      <th>7</th>\n      <th>8</th>\n      <th>9</th>\n      <th>10</th>\n    </tr>\n  </thead>\n  <tbody>\n    <tr>\n      <th>1</th>\n      <td>nan</td>\n      <td>nan</td>\n      <td>nan</td>\n      <td>nan</td>\n      <td>nan</td>\n      <td>nan</td>\n      <td>nan</td>\n      <td>nan</td>\n      <td>nan</td>\n      <td>nan</td>\n    </tr>\n    <tr>\n      <th>2</th>\n      <td>.0071</td>\n      <td>nan</td>\n      <td>nan</td>\n      <td>nan</td>\n      <td>nan</td>\n      <td>nan</td>\n      <td>nan</td>\n      <td>nan</td>\n      <td>nan</td>\n      <td>nan</td>\n    </tr>\n    <tr>\n      <th>3</th>\n      <td>.0033</td>\n      <td>-0.0014</td>\n      <td>nan</td>\n      <td>nan</td>\n      <td>nan</td>\n      <td>nan</td>\n      <td>nan</td>\n      <td>nan</td>\n      <td>nan</td>\n      <td>nan</td>\n    </tr>\n    <tr>\n      <th>4</th>\n      <td>.0077</td>\n      <td>-0.0006</td>\n      <td>-0.0010</td>\n      <td>nan</td>\n      <td>nan</td>\n      <td>nan</td>\n      <td>nan</td>\n      <td>nan</td>\n      <td>nan</td>\n      <td>nan</td>\n    </tr>\n    <tr>\n      <th>5</th>\n      <td>.0034</td>\n      <td>.0015</td>\n      <td>.0009</td>\n      <td>-0.0023</td>\n      <td>nan</td>\n      <td>nan</td>\n      <td>nan</td>\n      <td>nan</td>\n      <td>nan</td>\n      <td>nan</td>\n    </tr>\n    <tr>\n      <th>6</th>\n      <td>.0006</td>\n      <td>-0.0034</td>\n      <td>.0030</td>\n      <td>.0040</td>\n      <td>.0031</td>\n      <td>nan</td>\n      <td>nan</td>\n      <td>nan</td>\n      <td>nan</td>\n      <td>nan</td>\n    </tr>\n    <tr>\n      <th>7</th>\n      <td>-0.0018</td>\n      <td>.0008</td>\n      <td>.0037</td>\n      <td>.0043</td>\n      <td>.0030</td>\n      <td>.0049</td>\n      <td>nan</td>\n      <td>nan</td>\n      <td>nan</td>\n      <td>nan</td>\n    </tr>\n    <tr>\n      <th>8</th>\n      <td>.0032</td>\n      <td>-0.0012</td>\n      <td>-0.0019</td>\n      <td>.0019</td>\n      <td>.0060</td>\n      <td>.0023</td>\n      <td>.0058</td>\n      <td>nan</td>\n      <td>nan</td>\n      <td>nan</td>\n    </tr>\n    <tr>\n      <th>9</th>\n      <td>-0.0005</td>\n      <td>.0022</td>\n      <td>.0045</td>\n      <td>.0006</td>\n      <td>-0.0004</td>\n      <td>.0063</td>\n      <td>.0010</td>\n      <td>-0.0073</td>\n      <td>nan</td>\n      <td>nan</td>\n    </tr>\n    <tr>\n      <th>10</th>\n      <td>.0026</td>\n      <td>-0.0012</td>\n      <td>.0039</td>\n      <td>.0023</td>\n      <td>-0.0001</td>\n      <td>.0009</td>\n      <td>.0039</td>\n      <td>.0007</td>\n      <td>.0071</td>\n      <td>nan</td>\n    </tr>\n  </tbody>\n</table>\n</div>",
      "text/plain": "         1       2       3       4       5     6     7       8     9  10\n1      nan     nan     nan     nan     nan   nan   nan     nan   nan nan\n2    .0071     nan     nan     nan     nan   nan   nan     nan   nan nan\n3    .0033 -0.0014     nan     nan     nan   nan   nan     nan   nan nan\n4    .0077 -0.0006 -0.0010     nan     nan   nan   nan     nan   nan nan\n5    .0034   .0015   .0009 -0.0023     nan   nan   nan     nan   nan nan\n6    .0006 -0.0034   .0030   .0040   .0031   nan   nan     nan   nan nan\n7  -0.0018   .0008   .0037   .0043   .0030 .0049   nan     nan   nan nan\n8    .0032 -0.0012 -0.0019   .0019   .0060 .0023 .0058     nan   nan nan\n9  -0.0005   .0022   .0045   .0006 -0.0004 .0063 .0010 -0.0073   nan nan\n10   .0026 -0.0012   .0039   .0023 -0.0001 .0009 .0039   .0007 .0071 nan"
     },
     "execution_count": 10,
     "metadata": {},
     "output_type": "execute_result"
    }
   ],
   "source": [
    "(df_dice_wt.round(2).values - df_t3.iloc[:10, :10]) - (df_woese.values - df_t3.iloc[:10, :10])"
   ]
  },
  {
   "cell_type": "code",
   "execution_count": 11,
   "metadata": {},
   "outputs": [
    {
     "data": {
      "text/plain": "array([[0.  , 0.67, 0.63, 0.53, 0.56, 0.54, 0.26, 0.28, 0.23, 0.3 ],\n       [0.67, 0.  , 0.63, 0.49, 0.52, 0.52, 0.3 , 0.32, 0.28, 0.33],\n       [0.63, 0.63, 0.  , 0.49, 0.51, 0.51, 0.27, 0.29, 0.24, 0.31],\n       [0.53, 0.49, 0.49, 0.  , 0.63, 0.57, 0.29, 0.31, 0.26, 0.29],\n       [0.56, 0.52, 0.51, 0.63, 0.  , 0.63, 0.25, 0.3 , 0.27, 0.31],\n       [0.54, 0.52, 0.51, 0.57, 0.63, 0.  , 0.28, 0.32, 0.27, 0.35],\n       [0.26, 0.3 , 0.27, 0.29, 0.25, 0.28, 0.  , 0.63, 0.52, 0.33],\n       [0.28, 0.32, 0.29, 0.31, 0.3 , 0.32, 0.63, 0.  , 0.55, 0.43],\n       [0.23, 0.28, 0.24, 0.26, 0.27, 0.27, 0.52, 0.55, 0.  , 0.35],\n       [0.3 , 0.33, 0.31, 0.29, 0.31, 0.35, 0.33, 0.43, 0.35, 0.  ]])"
     },
     "execution_count": 11,
     "metadata": {},
     "output_type": "execute_result"
    }
   ],
   "source": [
    "df_dice = dist_mtx(df_feat[oligo_len >= 6], dice_sim)\n",
    "df_dice.round(2).values #- df_t3.iloc[:10, :10]"
   ]
  },
  {
   "cell_type": "code",
   "execution_count": 12,
   "metadata": {},
   "outputs": [
    {
     "data": {
      "text/plain": "array([[0.  , 0.67, 0.63, 0.53, 0.56, 0.54, 0.26, 0.28, 0.23, 0.3 ],\n       [0.67, 0.  , 0.63, 0.49, 0.52, 0.52, 0.3 , 0.32, 0.28, 0.33],\n       [0.63, 0.63, 0.  , 0.49, 0.51, 0.51, 0.27, 0.29, 0.24, 0.31],\n       [0.53, 0.49, 0.49, 0.  , 0.63, 0.57, 0.29, 0.31, 0.26, 0.29],\n       [0.56, 0.52, 0.51, 0.63, 0.  , 0.63, 0.25, 0.3 , 0.27, 0.31],\n       [0.54, 0.52, 0.51, 0.57, 0.63, 0.  , 0.28, 0.32, 0.27, 0.35],\n       [0.26, 0.3 , 0.27, 0.29, 0.25, 0.28, 0.  , 0.63, 0.52, 0.33],\n       [0.28, 0.32, 0.29, 0.31, 0.3 , 0.32, 0.63, 0.  , 0.55, 0.43],\n       [0.23, 0.28, 0.24, 0.26, 0.27, 0.27, 0.52, 0.55, 0.  , 0.35],\n       [0.3 , 0.33, 0.31, 0.29, 0.31, 0.35, 0.33, 0.43, 0.35, 0.  ]])"
     },
     "execution_count": 12,
     "metadata": {},
     "output_type": "execute_result"
    }
   ],
   "source": [
    "df_dice = dist_mtx(df_feat[oligo_len >= 6], dice_coefficient)\n",
    "df_dice.round(2).values  # - df_t3.iloc[:10, :10]"
   ]
  }
 ]
}